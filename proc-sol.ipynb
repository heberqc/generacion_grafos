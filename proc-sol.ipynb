{
 "cells": [
  {
   "cell_type": "markdown",
   "metadata": {},
   "source": [
    "# Análisis de muestra de grafo extraído de facebook\n",
    "\n",
    "## Secuencia de grados\n",
    "\n",
    "1. Importar los paquetes"
   ]
  },
  {
   "cell_type": "code",
   "execution_count": 1,
   "metadata": {
    "collapsed": true
   },
   "outputs": [],
   "source": [
    "%matplotlib inline\n",
    "import FuncionesGrafos as fg\n",
    "import numpy as np\n",
    "from matplotlib import pyplot as plt\n",
    "from scipy import stats\n",
    "import pandas as pd"
   ]
  },
  {
   "cell_type": "markdown",
   "metadata": {},
   "source": [
    "2. Cargar la secuencia de grados desde los archivos de nodos y aristas"
   ]
  },
  {
   "cell_type": "code",
   "execution_count": 2,
   "metadata": {
    "collapsed": true
   },
   "outputs": [],
   "source": [
    "Sg = fg.extrae_secuencia_grados(\n",
    "    './input/facebook_nodos.csv', \n",
    "    './input/facebook_aristas.csv'\n",
    ")"
   ]
  },
  {
   "cell_type": "markdown",
   "metadata": {},
   "source": [
    "3. Crear las columnas 'i', y 'fi' de la tabla de distribución de frecuencias"
   ]
  },
  {
   "cell_type": "code",
   "execution_count": 3,
   "metadata": {
    "collapsed": true
   },
   "outputs": [],
   "source": [
    "i, fi = [], []\n",
    "for g  in Sg:\n",
    "    if g in i:\n",
    "        fi[i.index(g)] += 1\n",
    "    else:\n",
    "        i.append(g)\n",
    "        fi.append(1)"
   ]
  },
  {
   "cell_type": "code",
   "execution_count": 4,
   "metadata": {
    "collapsed": true
   },
   "outputs": [],
   "source": [
    "Fi = []\n",
    "Fi.append(fi[0])\n",
    "for u in np.arange(1, len(fi)):\n",
    "    Fi.append(fi[u] + Fi[u - 1])\n",
    "hi = []\n",
    "for u in fi:\n",
    "    hi.append(u / Fi[-1])\n",
    "Hi = []\n",
    "Hi.append(hi[0])\n",
    "for u in np.arange(1, len(hi)):\n",
    "    Hi.append(hi[u] + Hi[u - 1])"
   ]
  },
  {
   "cell_type": "markdown",
   "metadata": {},
   "source": [
    "4. Armar la tabla de distribución de frecuencias"
   ]
  },
  {
   "cell_type": "code",
   "execution_count": 5,
   "metadata": {
    "scrolled": false
   },
   "outputs": [],
   "source": [
    "d = {\n",
    "    'fi' : pd.Series(fi, index=i),\n",
    "    'Fi' : pd.Series(Fi, index=i),\n",
    "    'hi' : pd.Series(hi, index=i),\n",
    "    'Hi' : pd.Series(Hi, index=i)\n",
    "}\n",
    "tabla = pd.DataFrame(d, columns=['fi', 'hi', 'Fi', 'Hi'])\n",
    "tabla.index.name = 'i'"
   ]
  },
  {
   "cell_type": "markdown",
   "metadata": {
    "collapsed": true
   },
   "source": [
    "4. Obtención de la gráfica de la distribución de frecuencias"
   ]
  },
  {
   "cell_type": "code",
   "execution_count": 6,
   "metadata": {
    "scrolled": true
   },
   "outputs": [
    {
     "data": {
      "text/plain": [
       "Text(0.5,1,'Distribución de frecuencias de los grados del grafo')"
      ]
     },
     "execution_count": 6,
     "metadata": {},
     "output_type": "execute_result"
    },
    {
     "data": {
      "image/png": "[encoded data removed]",
      "text/plain": [
       "<matplotlib.figure.Figure at 0x1976cb7f9b0>"
      ]
     },
     "metadata": {},
     "output_type": "display_data"
    }
   ],
   "source": [
    "plt.plot(i, fi, 'red')\n",
    "plt.title(u'Distribución de frecuencias de los grados del grafo')"
   ]
  },
  {
   "cell_type": "code",
   "execution_count": 7,
   "metadata": {
    "collapsed": true
   },
   "outputs": [],
   "source": [
    "# Datos estadísticos\n",
    "i = np.array(i)\n",
    "fi = np.array(fi)\n",
    "media = np.mean(Sg)\n",
    "mediana = np.median(Sg)\n",
    "varianza = np.var(Sg)"
   ]
  },
  {
   "cell_type": "code",
   "execution_count": 8,
   "metadata": {},
   "outputs": [
    {
     "data": {
      "text/plain": [
       "(43.69101262688784, 25.0, 2747.2395107101647)"
      ]
     },
     "execution_count": 8,
     "metadata": {},
     "output_type": "execute_result"
    }
   ],
   "source": [
    "media, mediana, varianza"
   ]
  },
  {
   "cell_type": "code",
   "execution_count": 9,
   "metadata": {},
   "outputs": [
    {
     "data": {
      "image/png": "[encoded data removed]",
      "text/plain": [
       "<matplotlib.figure.Figure at 0x1976ccaf8d0>"
      ]
     },
     "metadata": {},
     "output_type": "display_data"
    }
   ],
   "source": [
    "histograma = plt.hist(Sg, len(i), histtype='stepfilled')"
   ]
  },
  {
   "cell_type": "code",
   "execution_count": 10,
   "metadata": {},
   "outputs": [
    {
     "data": {
      "text/plain": [
       "<matplotlib.axes._subplots.AxesSubplot at 0x1976cca5a58>"
      ]
     },
     "execution_count": 10,
     "metadata": {},
     "output_type": "execute_result"
    },
    {
     "data": {
      "image/png": "[encoded data removed]",
      "text/plain": [
       "<matplotlib.figure.Figure at 0x1976cea34a8>"
      ]
     },
     "metadata": {},
     "output_type": "display_data"
    }
   ],
   "source": [
    "grados = pd.DataFrame(Sg)\n",
    "grados.boxplot()"
   ]
  },
  {
   "cell_type": "code",
   "execution_count": 11,
   "metadata": {},
   "outputs": [
    {
     "data": {
      "text/plain": [
       "(11.0, 25.0, 57.0, 1045.0)"
      ]
     },
     "execution_count": 11,
     "metadata": {},
     "output_type": "execute_result"
    }
   ],
   "source": [
    "Q1 = np.percentile(Sg, 25)\n",
    "Q2 = np.percentile(Sg, 50)\n",
    "Q3 = np.percentile(Sg, 75)\n",
    "Q4 = np.percentile(Sg, 100)\n",
    "Q1, Q2, Q3, Q4"
   ]
  },
  {
   "cell_type": "markdown",
   "metadata": {},
   "source": [
    "## Datos de grafo"
   ]
  },
  {
   "cell_type": "code",
   "execution_count": 12,
   "metadata": {
    "collapsed": true
   },
   "outputs": [],
   "source": [
    "nodos = pd.read_csv('./input/facebook_nodos.csv')\n",
    "enlaces = pd.read_csv('./input/facebook_aristas.csv')\n",
    "N = np.array(nodos['Id'])\n",
    "E = []\n",
    "for y in np.arange(len(enlaces)):\n",
    "    E.append((enlaces.iloc[y,0], enlaces.iloc[y,1]))"
   ]
  },
  {
   "cell_type": "code",
   "execution_count": 13,
   "metadata": {},
   "outputs": [
    {
     "name": "stdout",
     "output_type": "stream",
     "text": [
      "Cantidad de nodos: 4039\n",
      "Cantidad de enlaces: 88234\n",
      "Coef. Transitividad: 0.5192\n",
      "Coef. agrupamiento promedio: 0.6055\n",
      "Cantidad de triangulos: 1612010\n"
     ]
    }
   ],
   "source": [
    "G = fg.n_networkx(N, E)\n",
    "fg.mostrar_datos(G)"
   ]
  },
  {
   "cell_type": "markdown",
   "metadata": {
    "collapsed": true
   },
   "source": [
    "5. Exportar la tabla de distribución de frecuencias"
   ]
  },
  {
   "cell_type": "code",
   "execution_count": 14,
   "metadata": {
    "collapsed": true
   },
   "outputs": [],
   "source": [
    "tabla.to_csv('TablaDistFrec.csv', sep=';', encoding='utf-8')"
   ]
  },
  {
   "cell_type": "markdown",
   "metadata": {
    "collapsed": true
   },
   "source": [
    "# Experimentación"
   ]
  },
  {
   "cell_type": "code",
   "execution_count": 15,
   "metadata": {
    "collapsed": true
   },
   "outputs": [],
   "source": [
    "# cantidad: cantidad de nodos\n",
    "cantidad = 500\n",
    "Sg2 = []\n",
    "# hi*N\n",
    "hin = []\n",
    "for h in hi:\n",
    "    hin.append(round(cantidad * h))"
   ]
  },
  {
   "cell_type": "code",
   "execution_count": 17,
   "metadata": {},
   "outputs": [
    {
     "data": {
      "text/plain": [
       "141"
      ]
     },
     "execution_count": 17,
     "metadata": {},
     "output_type": "execute_result"
    }
   ],
   "source": [
    "# cantidad de grados diferentes de 0\n",
    "cant_n_0 = 0\n",
    "for h in hin:\n",
    "    if h > 0:\n",
    "        cant_n_0 += 1\n",
    "cant_n_0"
   ]
  },
  {
   "cell_type": "code",
   "execution_count": 18,
   "metadata": {},
   "outputs": [
    {
     "data": {
      "text/plain": [
       "(17.792951541850222, 3.5460992907801416)"
      ]
     },
     "execution_count": 18,
     "metadata": {},
     "output_type": "execute_result"
    }
   ],
   "source": [
    "len(N)/len(i), cantidad/cant_n_0"
   ]
  },
  {
   "cell_type": "code",
   "execution_count": 19,
   "metadata": {},
   "outputs": [
    {
     "data": {
      "text/plain": [
       "4039"
      ]
     },
     "execution_count": 19,
     "metadata": {},
     "output_type": "execute_result"
    }
   ],
   "source": [
    "len(N)"
   ]
  },
  {
   "cell_type": "code",
   "execution_count": 20,
   "metadata": {},
   "outputs": [
    {
     "data": {
      "text/plain": [
       "227"
      ]
     },
     "execution_count": 20,
     "metadata": {},
     "output_type": "execute_result"
    }
   ],
   "source": [
    "len(i)"
   ]
  },
  {
   "cell_type": "code",
   "execution_count": 21,
   "metadata": {},
   "outputs": [
    {
     "data": {
      "text/plain": [
       "28.10567734682406"
      ]
     },
     "execution_count": 21,
     "metadata": {},
     "output_type": "execute_result"
    }
   ],
   "source": [
    "cantidad / 17.79"
   ]
  },
  {
   "cell_type": "code",
   "execution_count": 25,
   "metadata": {
    "collapsed": true
   },
   "outputs": [],
   "source": [
    "RIC = Q3 - Q1\n",
    "bi = Q1 - 1.5 * RIC\n",
    "bs = Q3 + 1.5 * RIC"
   ]
  },
  {
   "cell_type": "code",
   "execution_count": 26,
   "metadata": {},
   "outputs": [
    {
     "data": {
      "text/plain": [
       "126.0"
      ]
     },
     "execution_count": 26,
     "metadata": {},
     "output_type": "execute_result"
    }
   ],
   "source": [
    "bs"
   ]
  },
  {
   "cell_type": "code",
   "execution_count": 27,
   "metadata": {
    "collapsed": true
   },
   "outputs": [],
   "source": [
    "can_sup_bs = 0\n",
    "for g in Sg:\n",
    "    if g >= bs:\n",
    "        can_sup_bs += 1"
   ]
  },
  {
   "cell_type": "code",
   "execution_count": 28,
   "metadata": {},
   "outputs": [
    {
     "data": {
      "text/plain": [
       "315"
      ]
     },
     "execution_count": 28,
     "metadata": {},
     "output_type": "execute_result"
    }
   ],
   "source": [
    "can_sup_bs"
   ]
  },
  {
   "cell_type": "code",
   "execution_count": null,
   "metadata": {
    "collapsed": true
   },
   "outputs": [],
   "source": []
  }
 ],
 "metadata": {
  "kernelspec": {
   "display_name": "Python 3",
   "language": "python",
   "name": "python3"
  },
  "language_info": {
   "codemirror_mode": {
    "name": "ipython",
    "version": 3
   },
   "file_extension": ".py",
   "mimetype": "text/x-python",
   "name": "python",
   "nbconvert_exporter": "python",
   "pygments_lexer": "ipython3",
   "version": "3.6.3"
  }
 },
 "nbformat": 4,
 "nbformat_minor": 2
}
